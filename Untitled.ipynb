{
 "cells": [
  {
   "cell_type": "code",
   "execution_count": 22,
   "id": "237c92a2",
   "metadata": {},
   "outputs": [],
   "source": [
    "#import libraries\n",
    "import string, re, nltk\n",
    "import pandas as pd\n",
    "from nltk.corpus import stopwords\n",
    "from nltk.stem.porter import PorterStemmer \n",
    "from sklearn.feature_extraction.text import CountVectorizer\n",
    "from sklearn.feature_extraction.text import TfidfTransformer\n",
    "from sklearn.model_selection import train_test_split\n",
    "from sklearn.metrics import classification_report\n",
    "from sklearn.pipeline import Pipeline\n",
    "from sklearn.naive_bayes import MultinomialNB\n",
    "import numpy as np \n",
    "import tensorflow as tf "
   ]
  },
  {
   "cell_type": "code",
   "execution_count": 23,
   "id": "f2eb6fff",
   "metadata": {},
   "outputs": [],
   "source": [
    "df = pd.read_csv(\"Data.csv\" , index_col = 0)"
   ]
  },
  {
   "cell_type": "markdown",
   "id": "45aeb255",
   "metadata": {},
   "source": [
    "### Preprocessing "
   ]
  },
  {
   "cell_type": "code",
   "execution_count": 3,
   "id": "2ccef958",
   "metadata": {},
   "outputs": [],
   "source": [
    "df = df.drop([\"bookno\" , \"Language\"] , axis = 1)"
   ]
  },
  {
   "cell_type": "code",
   "execution_count": 20,
   "id": "5dccc881",
   "metadata": {
    "scrolled": true
   },
   "outputs": [
    {
     "name": "stderr",
     "output_type": "stream",
     "text": [
      "[nltk_data] Downloading package stopwords to /home/aboud/nltk_data...\n",
      "[nltk_data]   Unzipping corpora/stopwords.zip.\n"
     ]
    },
    {
     "data": {
      "text/plain": [
       "True"
      ]
     },
     "execution_count": 20,
     "metadata": {},
     "output_type": "execute_result"
    }
   ],
   "source": [
    "nltk.download('stopwords')"
   ]
  },
  {
   "cell_type": "code",
   "execution_count": 25,
   "id": "76290a16",
   "metadata": {},
   "outputs": [],
   "source": [
    "ps = PorterStemmer()"
   ]
  },
  {
   "cell_type": "code",
   "execution_count": 27,
   "id": "9bb291bb",
   "metadata": {},
   "outputs": [
    {
     "name": "stdout",
     "output_type": "stream",
     "text": [
      "                           precision    recall  f1-score   support\n",
      "\n",
      "            Edith Wharton       0.00      0.00      0.00       0.0\n",
      "             Fritz Leiber       0.00      0.00      0.00       0.0\n",
      " Mrs. (Elizabeth) Gaskell       0.00      0.00      0.00       2.0\n",
      "\n",
      "                 accuracy                           0.00       2.0\n",
      "                macro avg       0.00      0.00      0.00       2.0\n",
      "             weighted avg       0.00      0.00      0.00       2.0\n",
      "\n"
     ]
    },
    {
     "name": "stderr",
     "output_type": "stream",
     "text": [
      "/home/aboud/anaconda3/lib/python3.11/site-packages/sklearn/metrics/_classification.py:1509: UndefinedMetricWarning: Precision is ill-defined and being set to 0.0 in labels with no predicted samples. Use `zero_division` parameter to control this behavior.\n",
      "  _warn_prf(average, modifier, f\"{metric.capitalize()} is\", len(result))\n",
      "/home/aboud/anaconda3/lib/python3.11/site-packages/sklearn/metrics/_classification.py:1509: UndefinedMetricWarning: Recall is ill-defined and being set to 0.0 in labels with no true samples. Use `zero_division` parameter to control this behavior.\n",
      "  _warn_prf(average, modifier, f\"{metric.capitalize()} is\", len(result))\n",
      "/home/aboud/anaconda3/lib/python3.11/site-packages/sklearn/metrics/_classification.py:1509: UndefinedMetricWarning: Precision is ill-defined and being set to 0.0 in labels with no predicted samples. Use `zero_division` parameter to control this behavior.\n",
      "  _warn_prf(average, modifier, f\"{metric.capitalize()} is\", len(result))\n",
      "/home/aboud/anaconda3/lib/python3.11/site-packages/sklearn/metrics/_classification.py:1509: UndefinedMetricWarning: Recall is ill-defined and being set to 0.0 in labels with no true samples. Use `zero_division` parameter to control this behavior.\n",
      "  _warn_prf(average, modifier, f\"{metric.capitalize()} is\", len(result))\n",
      "/home/aboud/anaconda3/lib/python3.11/site-packages/sklearn/metrics/_classification.py:1509: UndefinedMetricWarning: Precision is ill-defined and being set to 0.0 in labels with no predicted samples. Use `zero_division` parameter to control this behavior.\n",
      "  _warn_prf(average, modifier, f\"{metric.capitalize()} is\", len(result))\n",
      "/home/aboud/anaconda3/lib/python3.11/site-packages/sklearn/metrics/_classification.py:1509: UndefinedMetricWarning: Recall is ill-defined and being set to 0.0 in labels with no true samples. Use `zero_division` parameter to control this behavior.\n",
      "  _warn_prf(average, modifier, f\"{metric.capitalize()} is\", len(result))\n"
     ]
    }
   ],
   "source": [
    "#add an extra column which is the length of text\n",
    "df['length'] = df['content'].apply(len)\n",
    "\n",
    "#create a dataframe that contains only two columns the text and the target class\n",
    "df_cont = df.iloc[:10,:].copy()\n",
    "\n",
    "# function that takes in a string of text, removes all punctuation, stopwords and returns a list of cleaned text\n",
    "\n",
    "def text_process(mess):\n",
    "    # lower case for string\n",
    "    mess = mess.lower()\n",
    "\n",
    "    # check characters and removes URLs\n",
    "    nourl = re.sub(r'http\\S+', ' ', mess)\n",
    "\n",
    "    # check characters and removes punctuation\n",
    "    nopunc = [char for char in nourl if char not in string.punctuation]\n",
    "\n",
    "    # join the characters again to form the string and removes numbers\n",
    "    nopunc = ''.join([i for i in nopunc if not i.isdigit()])\n",
    "\n",
    "    # remove stopwords\n",
    "    return [ps.stem(word) for word in nopunc.split() if word not in set(stopwords.words('english'))]\n",
    "\n",
    "#split the data in train and test set and train/test the model\n",
    "\n",
    "cont_train, cont_test, target_train, target_test = train_test_split(df_cont['content'],df_cont['Author'],test_size = 0.2,shuffle = True, random_state = 1)\n",
    "\n",
    "\n",
    "pipeline = Pipeline([('bag_of_words',CountVectorizer(analyzer=text_process)),\n",
    "                     ('tfidf',TfidfTransformer()),\n",
    "                     ('classifier',MultinomialNB())])\n",
    "\n",
    "pipeline.fit(cont_train,target_train)\n",
    "predictions = pipeline.predict(cont_test)\n",
    "\n",
    "print(classification_report(predictions,target_test))"
   ]
  },
  {
   "cell_type": "code",
   "execution_count": 46,
   "id": "9bdfaf7d",
   "metadata": {},
   "outputs": [],
   "source": [
    "x= CountVectorizer().fit_transform(df.content[:10].values)"
   ]
  },
  {
   "cell_type": "code",
   "execution_count": 65,
   "id": "7f45b744",
   "metadata": {},
   "outputs": [],
   "source": [
    "x = x.toarray()\n",
    "y = np.array(([0]*5 + [1]*5))\n",
    "np.random.shuffle(y)"
   ]
  },
  {
   "cell_type": "code",
   "execution_count": 84,
   "id": "62ca980a",
   "metadata": {},
   "outputs": [
    {
     "data": {
      "text/plain": [
       "(10, 13965)"
      ]
     },
     "execution_count": 84,
     "metadata": {},
     "output_type": "execute_result"
    }
   ],
   "source": [
    "x.shape"
   ]
  },
  {
   "cell_type": "code",
   "execution_count": 62,
   "id": "ced05ed7",
   "metadata": {},
   "outputs": [
    {
     "data": {
      "text/plain": [
       "array([0, 0, 1, 0, 0, 1, 1, 1, 1, 0])"
      ]
     },
     "execution_count": 62,
     "metadata": {},
     "output_type": "execute_result"
    }
   ],
   "source": []
  },
  {
   "cell_type": "code",
   "execution_count": 32,
   "id": "f6896af6",
   "metadata": {},
   "outputs": [
    {
     "data": {
      "text/plain": [
       "0    *** START OF THIS PROJECT GUTENBERG EBOOK COMI...\n",
       "1    *** START OF THIS PROJECT GUTENBERG EBOOK CONF...\n",
       "2    *** START OF THIS PROJECT GUTENBERG EBOOK EARL...\n",
       "3    *** START OF THIS PROJECT GUTENBERG EBOOK THE ...\n",
       "4    *** START OF THIS PROJECT GUTENBERG EBOOK THE ...\n",
       "5    *** START OF THE PROJECT GUTENBERG EBOOK DONOV...\n",
       "6    *** START OF THIS PROJECT GUTENBERG EBOOK MISS...\n",
       "7    *** START OF THIS PROJECT GUTENBERG EBOOK WITH...\n",
       "8    *** START OF THIS PROJECT GUTENBERG EBOOK HOW ...\n",
       "9    *** START OF THIS PROJECT GUTENBERG EBOOK X MA...\n",
       "Name: content, dtype: object"
      ]
     },
     "execution_count": 32,
     "metadata": {},
     "output_type": "execute_result"
    }
   ],
   "source": [
    "df.iloc[:10].content"
   ]
  },
  {
   "cell_type": "code",
   "execution_count": 5,
   "id": "3b84578e",
   "metadata": {},
   "outputs": [],
   "source": [
    "maxlen = df.Author.str.len().max()\n",
    "chars = []\n",
    "for name in df.Author:\n",
    "    for char in name:\n",
    "        if char not in chars:\n",
    "            chars.append(char)\n",
    "chars.append(\" \")"
   ]
  },
  {
   "cell_type": "code",
   "execution_count": 6,
   "id": "b1b923f6",
   "metadata": {},
   "outputs": [],
   "source": [
    "char_indices = dict((c, i) for i, c in enumerate(chars))\n",
    "indices_char = dict((i, c) for i, c in enumerate(chars))\n",
    "\n",
    "x = np.zeros((len(df.Author) , maxlen , len(chars)) )\n",
    "y = np.zeros((len(df.Author) , maxlen , len(chars)) )\n"
   ]
  },
  {
   "cell_type": "code",
   "execution_count": 7,
   "id": "de8b814c",
   "metadata": {},
   "outputs": [],
   "source": [
    "for i , (name , pattern) in enumerate(zip(df.Author , df.Author)):\n",
    "    for t , char in enumerate(pattern):\n",
    "        x[i , t , char_indices[char]] = 1\n",
    "    x[i , t+1: , char_indices[\" \"]] = 1\n",
    "    for t , char in enumerate(name):\n",
    "        y[i ,t, char_indices[char]] = 1\n",
    "    y[i , t+1: , char_indices[\" \"]] = 1\n"
   ]
  },
  {
   "cell_type": "code",
   "execution_count": 89,
   "id": "af5a5f4a",
   "metadata": {},
   "outputs": [
    {
     "name": "stdout",
     "output_type": "stream",
     "text": [
      "Epoch 1/20\n",
      "8/8 [==============================] - 2s 74ms/step - loss: 0.0000e+00 - accuracy: 0.5000 - val_loss: 0.0000e+00 - val_accuracy: 0.5000\n",
      "Epoch 2/20\n",
      "8/8 [==============================] - 0s 37ms/step - loss: 0.0000e+00 - accuracy: 0.5000 - val_loss: 0.0000e+00 - val_accuracy: 0.5000\n",
      "Epoch 3/20\n",
      "8/8 [==============================] - 0s 33ms/step - loss: 0.0000e+00 - accuracy: 0.5000 - val_loss: 0.0000e+00 - val_accuracy: 0.5000\n",
      "Epoch 4/20\n",
      "8/8 [==============================] - 0s 34ms/step - loss: 0.0000e+00 - accuracy: 0.5000 - val_loss: 0.0000e+00 - val_accuracy: 0.5000\n",
      "Epoch 5/20\n",
      "8/8 [==============================] - 0s 33ms/step - loss: 0.0000e+00 - accuracy: 0.5000 - val_loss: 0.0000e+00 - val_accuracy: 0.5000\n",
      "Epoch 6/20\n",
      "8/8 [==============================] - 0s 34ms/step - loss: 0.0000e+00 - accuracy: 0.5000 - val_loss: 0.0000e+00 - val_accuracy: 0.5000\n",
      "Epoch 7/20\n",
      "8/8 [==============================] - 0s 33ms/step - loss: 0.0000e+00 - accuracy: 0.5000 - val_loss: 0.0000e+00 - val_accuracy: 0.5000\n",
      "Epoch 8/20\n",
      "8/8 [==============================] - 0s 33ms/step - loss: 0.0000e+00 - accuracy: 0.5000 - val_loss: 0.0000e+00 - val_accuracy: 0.5000\n",
      "Epoch 9/20\n",
      "8/8 [==============================] - 0s 31ms/step - loss: 0.0000e+00 - accuracy: 0.5000 - val_loss: 0.0000e+00 - val_accuracy: 0.5000\n",
      "Epoch 10/20\n",
      "8/8 [==============================] - 0s 34ms/step - loss: 0.0000e+00 - accuracy: 0.5000 - val_loss: 0.0000e+00 - val_accuracy: 0.5000\n",
      "Epoch 11/20\n",
      "8/8 [==============================] - 0s 38ms/step - loss: 0.0000e+00 - accuracy: 0.5000 - val_loss: 0.0000e+00 - val_accuracy: 0.5000\n",
      "Epoch 12/20\n",
      "8/8 [==============================] - 0s 36ms/step - loss: 0.0000e+00 - accuracy: 0.5000 - val_loss: 0.0000e+00 - val_accuracy: 0.5000\n",
      "Epoch 13/20\n",
      "8/8 [==============================] - 0s 36ms/step - loss: 0.0000e+00 - accuracy: 0.5000 - val_loss: 0.0000e+00 - val_accuracy: 0.5000\n",
      "Epoch 14/20\n",
      "8/8 [==============================] - 0s 33ms/step - loss: 0.0000e+00 - accuracy: 0.5000 - val_loss: 0.0000e+00 - val_accuracy: 0.5000\n",
      "Epoch 15/20\n",
      "8/8 [==============================] - 0s 35ms/step - loss: 0.0000e+00 - accuracy: 0.5000 - val_loss: 0.0000e+00 - val_accuracy: 0.5000\n",
      "Epoch 16/20\n",
      "8/8 [==============================] - 0s 30ms/step - loss: 0.0000e+00 - accuracy: 0.5000 - val_loss: 0.0000e+00 - val_accuracy: 0.5000\n",
      "Epoch 17/20\n",
      "8/8 [==============================] - 0s 34ms/step - loss: 0.0000e+00 - accuracy: 0.5000 - val_loss: 0.0000e+00 - val_accuracy: 0.5000\n",
      "Epoch 18/20\n",
      "8/8 [==============================] - 0s 33ms/step - loss: 0.0000e+00 - accuracy: 0.5000 - val_loss: 0.0000e+00 - val_accuracy: 0.5000\n",
      "Epoch 19/20\n",
      "8/8 [==============================] - 0s 33ms/step - loss: 0.0000e+00 - accuracy: 0.5000 - val_loss: 0.0000e+00 - val_accuracy: 0.5000\n",
      "Epoch 20/20\n",
      "8/8 [==============================] - 0s 33ms/step - loss: 0.0000e+00 - accuracy: 0.5000 - val_loss: 0.0000e+00 - val_accuracy: 0.5000\n"
     ]
    }
   ],
   "source": [
    "model = tf.keras.models.Sequential([\n",
    "tf.keras.layers.Dense(100,),\n",
    "tf.keras.layers.Dropout(0.5),\n",
    "tf.keras.layers.Dense(128 ,  ),\n",
    "tf.keras.layers.Dropout(0.5),\n",
    "tf.keras.layers.Dense(256 ,),\n",
    "tf.keras.layers.Dense(1, activation = 'softmax' ,)\n",
    "    ]) \n",
    "\n",
    "    # Compile the model \n",
    "model.compile(loss ='categorical_crossentropy' , optimizer = 'adam' , metrics=['accuracy'])\n",
    "\n",
    "    # Train the model\n",
    "hist = model.fit(x , y , epochs = 20 , batch_size = 1 , validation_split=0.2)\n"
   ]
  },
  {
   "cell_type": "code",
   "execution_count": 94,
   "id": "db690758",
   "metadata": {},
   "outputs": [
    {
     "name": "stdout",
     "output_type": "stream",
     "text": [
      "1/1 [==============================] - 0s 33ms/step\n"
     ]
    }
   ],
   "source": [
    "x = model.predict(x[1].reshape(1,-1))"
   ]
  },
  {
   "cell_type": "code",
   "execution_count": 93,
   "id": "c8c9dc61",
   "metadata": {},
   "outputs": [
    {
     "data": {
      "text/plain": [
       "array([0, 0, 0, ..., 0, 0, 0])"
      ]
     },
     "execution_count": 93,
     "metadata": {},
     "output_type": "execute_result"
    }
   ],
   "source": [
    "x[1]"
   ]
  },
  {
   "cell_type": "code",
   "execution_count": 99,
   "id": "5262e164",
   "metadata": {},
   "outputs": [
    {
     "data": {
      "text/plain": [
       "array([[1.]], dtype=float32)"
      ]
     },
     "execution_count": 99,
     "metadata": {},
     "output_type": "execute_result"
    }
   ],
   "source": [
    "x"
   ]
  },
  {
   "cell_type": "code",
   "execution_count": 96,
   "id": "e7f3ae68",
   "metadata": {},
   "outputs": [
    {
     "data": {
      "text/plain": [
       "array([0, 0, 1, 1, 1, 1, 0, 0, 1, 0])"
      ]
     },
     "execution_count": 96,
     "metadata": {},
     "output_type": "execute_result"
    }
   ],
   "source": [
    "y"
   ]
  },
  {
   "cell_type": "code",
   "execution_count": null,
   "id": "1a12c0d0",
   "metadata": {},
   "outputs": [],
   "source": []
  }
 ],
 "metadata": {
  "kernelspec": {
   "display_name": "Python 3 (ipykernel)",
   "language": "python",
   "name": "python3"
  },
  "language_info": {
   "codemirror_mode": {
    "name": "ipython",
    "version": 3
   },
   "file_extension": ".py",
   "mimetype": "text/x-python",
   "name": "python",
   "nbconvert_exporter": "python",
   "pygments_lexer": "ipython3",
   "version": "3.11.5"
  }
 },
 "nbformat": 4,
 "nbformat_minor": 5
}
