{
 "cells": [
  {
   "cell_type": "code",
   "execution_count": 1,
   "id": "58084373",
   "metadata": {},
   "outputs": [],
   "source": [
    "import pandas as pd "
   ]
  },
  {
   "cell_type": "markdown",
   "id": "8da590ec",
   "metadata": {},
   "source": [
    "### Read Data "
   ]
  },
  {
   "cell_type": "markdown",
   "id": "a8ca3ebd",
   "metadata": {},
   "source": [
    "* u can find the dataset in README "
   ]
  },
  {
   "cell_type": "code",
   "execution_count": 4,
   "id": "de050563",
   "metadata": {},
   "outputs": [],
   "source": [
    "stories_content = pd.read_csv(\"stories.csv\")\n",
    "stories_detailes = pd.read_csv(\"db_books.csv\")"
   ]
  },
  {
   "cell_type": "markdown",
   "id": "a9515cd9",
   "metadata": {},
   "source": [
    "### Preprocessing "
   ]
  },
  {
   "cell_type": "code",
   "execution_count": 14,
   "id": "a70f5246",
   "metadata": {},
   "outputs": [],
   "source": [
    "stories_detailes.Language = stories_detailes.Language.str.strip()"
   ]
  },
  {
   "cell_type": "markdown",
   "id": "588f7eeb",
   "metadata": {},
   "source": [
    "##### choose only 50 of  dataset caues its to larg"
   ]
  },
  {
   "cell_type": "code",
   "execution_count": 21,
   "id": "ecfc7782",
   "metadata": {},
   "outputs": [],
   "source": [
    "first50 = stories_detailes[(stories_detailes.Language == \"English\")].iloc[:50,:]"
   ]
  },
  {
   "cell_type": "code",
   "execution_count": 8,
   "id": "6739adfe",
   "metadata": {
    "scrolled": true
   },
   "outputs": [
    {
     "data": {
      "text/html": [
       "<div>\n",
       "<style scoped>\n",
       "    .dataframe tbody tr th:only-of-type {\n",
       "        vertical-align: middle;\n",
       "    }\n",
       "\n",
       "    .dataframe tbody tr th {\n",
       "        vertical-align: top;\n",
       "    }\n",
       "\n",
       "    .dataframe thead th {\n",
       "        text-align: right;\n",
       "    }\n",
       "</style>\n",
       "<table border=\"1\" class=\"dataframe\">\n",
       "  <thead>\n",
       "    <tr style=\"text-align: right;\">\n",
       "      <th></th>\n",
       "      <th>bookno</th>\n",
       "      <th>Title</th>\n",
       "      <th>Author</th>\n",
       "      <th>Language</th>\n",
       "    </tr>\n",
       "  </thead>\n",
       "  <tbody>\n",
       "    <tr>\n",
       "      <th>0</th>\n",
       "      <td>51082.txt</td>\n",
       "      <td>Coming Attraction</td>\n",
       "      <td>Fritz Leiber</td>\n",
       "      <td>English</td>\n",
       "    </tr>\n",
       "    <tr>\n",
       "      <th>1</th>\n",
       "      <td>32243.txt</td>\n",
       "      <td>Confidence Game</td>\n",
       "      <td>James McKimmey</td>\n",
       "      <td>English</td>\n",
       "    </tr>\n",
       "    <tr>\n",
       "      <th>2</th>\n",
       "      <td>306-0.txt</td>\n",
       "      <td>The Early Short Fiction of Edith Wharton, Par...</td>\n",
       "      <td>Edith Wharton</td>\n",
       "      <td>English</td>\n",
       "    </tr>\n",
       "    <tr>\n",
       "      <th>3</th>\n",
       "      <td>31038.txt</td>\n",
       "      <td>The Real Hard Sell</td>\n",
       "      <td>William W Stuart</td>\n",
       "      <td>English</td>\n",
       "    </tr>\n",
       "    <tr>\n",
       "      <th>4</th>\n",
       "      <td>28636-8.txt</td>\n",
       "      <td>The Grey Woman and other Tales</td>\n",
       "      <td>Mrs. (Elizabeth) Gaskell</td>\n",
       "      <td>English</td>\n",
       "    </tr>\n",
       "    <tr>\n",
       "      <th>...</th>\n",
       "      <td>...</td>\n",
       "      <td>...</td>\n",
       "      <td>...</td>\n",
       "      <td>...</td>\n",
       "    </tr>\n",
       "    <tr>\n",
       "      <th>997</th>\n",
       "      <td>29487.txt</td>\n",
       "      <td>Forever</td>\n",
       "      <td>Robert Sheckley</td>\n",
       "      <td>English</td>\n",
       "    </tr>\n",
       "    <tr>\n",
       "      <th>998</th>\n",
       "      <td>56527-0.txt</td>\n",
       "      <td>In a Quiet Village</td>\n",
       "      <td>Sabine Baring-Gould</td>\n",
       "      <td>English</td>\n",
       "    </tr>\n",
       "    <tr>\n",
       "      <th>999</th>\n",
       "      <td>31218-8.txt</td>\n",
       "      <td>Flten und Dolche</td>\n",
       "      <td>Heinrich Mann</td>\n",
       "      <td>German</td>\n",
       "    </tr>\n",
       "    <tr>\n",
       "      <th>1000</th>\n",
       "      <td>33839.txt</td>\n",
       "      <td>Problem on Balak</td>\n",
       "      <td>Roger D. Aycock</td>\n",
       "      <td>English</td>\n",
       "    </tr>\n",
       "    <tr>\n",
       "      <th>1001</th>\n",
       "      <td>59376.txt</td>\n",
       "      <td>The Patriot</td>\n",
       "      <td>Charles L. Fontenay</td>\n",
       "      <td>English</td>\n",
       "    </tr>\n",
       "  </tbody>\n",
       "</table>\n",
       "<p>1002 rows × 4 columns</p>\n",
       "</div>"
      ],
      "text/plain": [
       "           bookno                                              Title  \\\n",
       "0       51082.txt                                  Coming Attraction   \n",
       "1       32243.txt                                    Confidence Game   \n",
       "2       306-0.txt   The Early Short Fiction of Edith Wharton, Par...   \n",
       "3       31038.txt                                 The Real Hard Sell   \n",
       "4     28636-8.txt                     The Grey Woman and other Tales   \n",
       "...           ...                                                ...   \n",
       "997     29487.txt                                            Forever   \n",
       "998   56527-0.txt                                 In a Quiet Village   \n",
       "999   31218-8.txt                                   Flten und Dolche   \n",
       "1000    33839.txt                                   Problem on Balak   \n",
       "1001    59376.txt                                        The Patriot   \n",
       "\n",
       "                         Author  Language  \n",
       "0                  Fritz Leiber   English  \n",
       "1                James McKimmey   English  \n",
       "2                 Edith Wharton   English  \n",
       "3              William W Stuart   English  \n",
       "4      Mrs. (Elizabeth) Gaskell   English  \n",
       "...                         ...       ...  \n",
       "997             Robert Sheckley   English  \n",
       "998         Sabine Baring-Gould   English  \n",
       "999               Heinrich Mann    German  \n",
       "1000            Roger D. Aycock   English  \n",
       "1001        Charles L. Fontenay   English  \n",
       "\n",
       "[1002 rows x 4 columns]"
      ]
     },
     "execution_count": 8,
     "metadata": {},
     "output_type": "execute_result"
    }
   ],
   "source": [
    "stories_detailes"
   ]
  },
  {
   "cell_type": "markdown",
   "id": "e84d5b9b",
   "metadata": {},
   "source": [
    "#### merge each book with its content "
   ]
  },
  {
   "cell_type": "code",
   "execution_count": 25,
   "id": "b31f3fdb",
   "metadata": {},
   "outputs": [],
   "source": [
    "df = first50.merge(stories_content , on = \"bookno\")"
   ]
  },
  {
   "cell_type": "markdown",
   "id": "a79316ef",
   "metadata": {},
   "source": [
    "### Save data "
   ]
  },
  {
   "cell_type": "code",
   "execution_count": 26,
   "id": "f8cbfa09",
   "metadata": {},
   "outputs": [],
   "source": [
    "df.to_csv(\"Data.csv\")"
   ]
  },
  {
   "cell_type": "code",
   "execution_count": null,
   "id": "55245420",
   "metadata": {},
   "outputs": [],
   "source": []
  }
 ],
 "metadata": {
  "kernelspec": {
   "display_name": "Python 3 (ipykernel)",
   "language": "python",
   "name": "python3"
  },
  "language_info": {
   "codemirror_mode": {
    "name": "ipython",
    "version": 3
   },
   "file_extension": ".py",
   "mimetype": "text/x-python",
   "name": "python",
   "nbconvert_exporter": "python",
   "pygments_lexer": "ipython3",
   "version": "3.11.5"
  }
 },
 "nbformat": 4,
 "nbformat_minor": 5
}
